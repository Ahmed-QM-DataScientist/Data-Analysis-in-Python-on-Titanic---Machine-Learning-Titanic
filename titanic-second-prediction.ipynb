{
 "cells": [
  {
   "cell_type": "code",
   "execution_count": 1,
   "id": "60bbcac3",
   "metadata": {
    "_cell_guid": "b1076dfc-b9ad-4769-8c92-a6c4dae69d19",
    "_uuid": "8f2839f25d086af736a60e9eeb907d3b93b6e0e5",
    "execution": {
     "iopub.execute_input": "2023-03-04T11:05:13.993686Z",
     "iopub.status.busy": "2023-03-04T11:05:13.992862Z",
     "iopub.status.idle": "2023-03-04T11:05:14.021400Z",
     "shell.execute_reply": "2023-03-04T11:05:14.020498Z"
    },
    "papermill": {
     "duration": 0.042643,
     "end_time": "2023-03-04T11:05:14.024097",
     "exception": false,
     "start_time": "2023-03-04T11:05:13.981454",
     "status": "completed"
    },
    "tags": []
   },
   "outputs": [
    {
     "name": "stdout",
     "output_type": "stream",
     "text": [
      "/kaggle/input/titanic/train.csv\n",
      "/kaggle/input/titanic/test.csv\n",
      "/kaggle/input/titanic/gender_submission.csv\n",
      "/kaggle/input/notebook8500950c60/__results__.html\n",
      "/kaggle/input/notebook8500950c60/submission.csv\n",
      "/kaggle/input/notebook8500950c60/__notebook__.ipynb\n",
      "/kaggle/input/notebook8500950c60/__output__.json\n",
      "/kaggle/input/notebook8500950c60/custom.css\n",
      "/kaggle/input/notebook8500950c60/__results___files/__results___8_0.png\n",
      "/kaggle/input/notebook8500950c60/__results___files/__results___11_7.png\n",
      "/kaggle/input/notebook8500950c60/__results___files/__results___9_2.png\n",
      "/kaggle/input/notebook8500950c60/__results___files/__results___8_3.png\n",
      "/kaggle/input/notebook8500950c60/__results___files/__results___11_5.png\n",
      "/kaggle/input/notebook8500950c60/__results___files/__results___8_4.png\n",
      "/kaggle/input/notebook8500950c60/__results___files/__results___11_3.png\n",
      "/kaggle/input/notebook8500950c60/__results___files/__results___11_9.png\n",
      "/kaggle/input/notebook8500950c60/__results___files/__results___11_1.png\n",
      "/kaggle/input/notebook8500950c60/__results___files/__results___8_1.png\n",
      "/kaggle/input/notebook8500950c60/__results___files/__results___8_2.png\n"
     ]
    }
   ],
   "source": [
    "# This Python 3 environment comes with many helpful analytics libraries installed\n",
    "# It is defined by the kaggle/python Docker image: https://github.com/kaggle/docker-python\n",
    "# For example, here's several helpful packages to load\n",
    "\n",
    "import numpy as np # linear algebra\n",
    "import pandas as pd # data processing, CSV file I/O (e.g. pd.read_csv)\n",
    "\n",
    "# Input data files are available in the read-only \"../input/\" directory\n",
    "# For example, running this (by clicking run or pressing Shift+Enter) will list all files under the input directory\n",
    "\n",
    "import os\n",
    "for dirname, _, filenames in os.walk('/kaggle/input'):\n",
    "    for filename in filenames:\n",
    "        print(os.path.join(dirname, filename))\n",
    "\n",
    "# You can write up to 20GB to the current directory (/kaggle/working/) that gets preserved as output when you create a version using \"Save & Run All\" \n",
    "# You can also write temporary files to /kaggle/temp/, but they won't be saved outside of the current session\n",
    "\n",
    "import matplotlib.pyplot as plt\n",
    "import pandas as pd\n",
    "import pylab as pl\n",
    "import numpy as np\n",
    "%matplotlib inline\n",
    "\n",
    "\n",
    "\n"
   ]
  },
  {
   "cell_type": "code",
   "execution_count": 2,
   "id": "0d13cae4",
   "metadata": {
    "execution": {
     "iopub.execute_input": "2023-03-04T11:05:14.042623Z",
     "iopub.status.busy": "2023-03-04T11:05:14.041693Z",
     "iopub.status.idle": "2023-03-04T11:05:14.108715Z",
     "shell.execute_reply": "2023-03-04T11:05:14.107747Z"
    },
    "papermill": {
     "duration": 0.078769,
     "end_time": "2023-03-04T11:05:14.111066",
     "exception": false,
     "start_time": "2023-03-04T11:05:14.032297",
     "status": "completed"
    },
    "tags": []
   },
   "outputs": [
    {
     "data": {
      "text/html": [
       "<div>\n",
       "<style scoped>\n",
       "    .dataframe tbody tr th:only-of-type {\n",
       "        vertical-align: middle;\n",
       "    }\n",
       "\n",
       "    .dataframe tbody tr th {\n",
       "        vertical-align: top;\n",
       "    }\n",
       "\n",
       "    .dataframe thead th {\n",
       "        text-align: right;\n",
       "    }\n",
       "</style>\n",
       "<table border=\"1\" class=\"dataframe\">\n",
       "  <thead>\n",
       "    <tr style=\"text-align: right;\">\n",
       "      <th></th>\n",
       "      <th>PassengerId</th>\n",
       "      <th>Pclass</th>\n",
       "      <th>Name</th>\n",
       "      <th>Sex</th>\n",
       "      <th>Age</th>\n",
       "      <th>SibSp</th>\n",
       "      <th>Parch</th>\n",
       "      <th>Ticket</th>\n",
       "      <th>Fare</th>\n",
       "      <th>Cabin</th>\n",
       "      <th>Embarked</th>\n",
       "    </tr>\n",
       "  </thead>\n",
       "  <tbody>\n",
       "    <tr>\n",
       "      <th>0</th>\n",
       "      <td>892</td>\n",
       "      <td>3</td>\n",
       "      <td>Kelly, Mr. James</td>\n",
       "      <td>male</td>\n",
       "      <td>34.5</td>\n",
       "      <td>0</td>\n",
       "      <td>0</td>\n",
       "      <td>330911</td>\n",
       "      <td>7.8292</td>\n",
       "      <td>NaN</td>\n",
       "      <td>Q</td>\n",
       "    </tr>\n",
       "    <tr>\n",
       "      <th>1</th>\n",
       "      <td>893</td>\n",
       "      <td>3</td>\n",
       "      <td>Wilkes, Mrs. James (Ellen Needs)</td>\n",
       "      <td>female</td>\n",
       "      <td>47.0</td>\n",
       "      <td>1</td>\n",
       "      <td>0</td>\n",
       "      <td>363272</td>\n",
       "      <td>7.0000</td>\n",
       "      <td>NaN</td>\n",
       "      <td>S</td>\n",
       "    </tr>\n",
       "    <tr>\n",
       "      <th>2</th>\n",
       "      <td>894</td>\n",
       "      <td>2</td>\n",
       "      <td>Myles, Mr. Thomas Francis</td>\n",
       "      <td>male</td>\n",
       "      <td>62.0</td>\n",
       "      <td>0</td>\n",
       "      <td>0</td>\n",
       "      <td>240276</td>\n",
       "      <td>9.6875</td>\n",
       "      <td>NaN</td>\n",
       "      <td>Q</td>\n",
       "    </tr>\n",
       "    <tr>\n",
       "      <th>3</th>\n",
       "      <td>895</td>\n",
       "      <td>3</td>\n",
       "      <td>Wirz, Mr. Albert</td>\n",
       "      <td>male</td>\n",
       "      <td>27.0</td>\n",
       "      <td>0</td>\n",
       "      <td>0</td>\n",
       "      <td>315154</td>\n",
       "      <td>8.6625</td>\n",
       "      <td>NaN</td>\n",
       "      <td>S</td>\n",
       "    </tr>\n",
       "    <tr>\n",
       "      <th>4</th>\n",
       "      <td>896</td>\n",
       "      <td>3</td>\n",
       "      <td>Hirvonen, Mrs. Alexander (Helga E Lindqvist)</td>\n",
       "      <td>female</td>\n",
       "      <td>22.0</td>\n",
       "      <td>1</td>\n",
       "      <td>1</td>\n",
       "      <td>3101298</td>\n",
       "      <td>12.2875</td>\n",
       "      <td>NaN</td>\n",
       "      <td>S</td>\n",
       "    </tr>\n",
       "    <tr>\n",
       "      <th>...</th>\n",
       "      <td>...</td>\n",
       "      <td>...</td>\n",
       "      <td>...</td>\n",
       "      <td>...</td>\n",
       "      <td>...</td>\n",
       "      <td>...</td>\n",
       "      <td>...</td>\n",
       "      <td>...</td>\n",
       "      <td>...</td>\n",
       "      <td>...</td>\n",
       "      <td>...</td>\n",
       "    </tr>\n",
       "    <tr>\n",
       "      <th>413</th>\n",
       "      <td>1305</td>\n",
       "      <td>3</td>\n",
       "      <td>Spector, Mr. Woolf</td>\n",
       "      <td>male</td>\n",
       "      <td>NaN</td>\n",
       "      <td>0</td>\n",
       "      <td>0</td>\n",
       "      <td>A.5. 3236</td>\n",
       "      <td>8.0500</td>\n",
       "      <td>NaN</td>\n",
       "      <td>S</td>\n",
       "    </tr>\n",
       "    <tr>\n",
       "      <th>414</th>\n",
       "      <td>1306</td>\n",
       "      <td>1</td>\n",
       "      <td>Oliva y Ocana, Dona. Fermina</td>\n",
       "      <td>female</td>\n",
       "      <td>39.0</td>\n",
       "      <td>0</td>\n",
       "      <td>0</td>\n",
       "      <td>PC 17758</td>\n",
       "      <td>108.9000</td>\n",
       "      <td>C105</td>\n",
       "      <td>C</td>\n",
       "    </tr>\n",
       "    <tr>\n",
       "      <th>415</th>\n",
       "      <td>1307</td>\n",
       "      <td>3</td>\n",
       "      <td>Saether, Mr. Simon Sivertsen</td>\n",
       "      <td>male</td>\n",
       "      <td>38.5</td>\n",
       "      <td>0</td>\n",
       "      <td>0</td>\n",
       "      <td>SOTON/O.Q. 3101262</td>\n",
       "      <td>7.2500</td>\n",
       "      <td>NaN</td>\n",
       "      <td>S</td>\n",
       "    </tr>\n",
       "    <tr>\n",
       "      <th>416</th>\n",
       "      <td>1308</td>\n",
       "      <td>3</td>\n",
       "      <td>Ware, Mr. Frederick</td>\n",
       "      <td>male</td>\n",
       "      <td>NaN</td>\n",
       "      <td>0</td>\n",
       "      <td>0</td>\n",
       "      <td>359309</td>\n",
       "      <td>8.0500</td>\n",
       "      <td>NaN</td>\n",
       "      <td>S</td>\n",
       "    </tr>\n",
       "    <tr>\n",
       "      <th>417</th>\n",
       "      <td>1309</td>\n",
       "      <td>3</td>\n",
       "      <td>Peter, Master. Michael J</td>\n",
       "      <td>male</td>\n",
       "      <td>NaN</td>\n",
       "      <td>1</td>\n",
       "      <td>1</td>\n",
       "      <td>2668</td>\n",
       "      <td>22.3583</td>\n",
       "      <td>NaN</td>\n",
       "      <td>C</td>\n",
       "    </tr>\n",
       "  </tbody>\n",
       "</table>\n",
       "<p>418 rows × 11 columns</p>\n",
       "</div>"
      ],
      "text/plain": [
       "     PassengerId  Pclass                                          Name  \\\n",
       "0            892       3                              Kelly, Mr. James   \n",
       "1            893       3              Wilkes, Mrs. James (Ellen Needs)   \n",
       "2            894       2                     Myles, Mr. Thomas Francis   \n",
       "3            895       3                              Wirz, Mr. Albert   \n",
       "4            896       3  Hirvonen, Mrs. Alexander (Helga E Lindqvist)   \n",
       "..           ...     ...                                           ...   \n",
       "413         1305       3                            Spector, Mr. Woolf   \n",
       "414         1306       1                  Oliva y Ocana, Dona. Fermina   \n",
       "415         1307       3                  Saether, Mr. Simon Sivertsen   \n",
       "416         1308       3                           Ware, Mr. Frederick   \n",
       "417         1309       3                      Peter, Master. Michael J   \n",
       "\n",
       "        Sex   Age  SibSp  Parch              Ticket      Fare Cabin Embarked  \n",
       "0      male  34.5      0      0              330911    7.8292   NaN        Q  \n",
       "1    female  47.0      1      0              363272    7.0000   NaN        S  \n",
       "2      male  62.0      0      0              240276    9.6875   NaN        Q  \n",
       "3      male  27.0      0      0              315154    8.6625   NaN        S  \n",
       "4    female  22.0      1      1             3101298   12.2875   NaN        S  \n",
       "..      ...   ...    ...    ...                 ...       ...   ...      ...  \n",
       "413    male   NaN      0      0           A.5. 3236    8.0500   NaN        S  \n",
       "414  female  39.0      0      0            PC 17758  108.9000  C105        C  \n",
       "415    male  38.5      0      0  SOTON/O.Q. 3101262    7.2500   NaN        S  \n",
       "416    male   NaN      0      0              359309    8.0500   NaN        S  \n",
       "417    male   NaN      1      1                2668   22.3583   NaN        C  \n",
       "\n",
       "[418 rows x 11 columns]"
      ]
     },
     "execution_count": 2,
     "metadata": {},
     "output_type": "execute_result"
    }
   ],
   "source": [
    "train = pd.read_csv('/kaggle/input/titanic/train.csv')\n",
    "test = pd.read_csv('/kaggle/input/titanic/test.csv')\n",
    "test_ids = test[\"PassengerId\"]\n",
    "test"
   ]
  },
  {
   "cell_type": "code",
   "execution_count": 3,
   "id": "9dcdb06d",
   "metadata": {
    "execution": {
     "iopub.execute_input": "2023-03-04T11:05:14.130218Z",
     "iopub.status.busy": "2023-03-04T11:05:14.129586Z",
     "iopub.status.idle": "2023-03-04T11:05:14.151566Z",
     "shell.execute_reply": "2023-03-04T11:05:14.150202Z"
    },
    "papermill": {
     "duration": 0.034331,
     "end_time": "2023-03-04T11:05:14.153956",
     "exception": false,
     "start_time": "2023-03-04T11:05:14.119625",
     "status": "completed"
    },
    "tags": []
   },
   "outputs": [
    {
     "data": {
      "text/html": [
       "<div>\n",
       "<style scoped>\n",
       "    .dataframe tbody tr th:only-of-type {\n",
       "        vertical-align: middle;\n",
       "    }\n",
       "\n",
       "    .dataframe tbody tr th {\n",
       "        vertical-align: top;\n",
       "    }\n",
       "\n",
       "    .dataframe thead th {\n",
       "        text-align: right;\n",
       "    }\n",
       "</style>\n",
       "<table border=\"1\" class=\"dataframe\">\n",
       "  <thead>\n",
       "    <tr style=\"text-align: right;\">\n",
       "      <th></th>\n",
       "      <th>PassengerId</th>\n",
       "      <th>Survived</th>\n",
       "      <th>Pclass</th>\n",
       "      <th>Name</th>\n",
       "      <th>Sex</th>\n",
       "      <th>Age</th>\n",
       "      <th>SibSp</th>\n",
       "      <th>Parch</th>\n",
       "      <th>Ticket</th>\n",
       "      <th>Fare</th>\n",
       "      <th>Cabin</th>\n",
       "      <th>Embarked</th>\n",
       "    </tr>\n",
       "  </thead>\n",
       "  <tbody>\n",
       "    <tr>\n",
       "      <th>0</th>\n",
       "      <td>1</td>\n",
       "      <td>0</td>\n",
       "      <td>3</td>\n",
       "      <td>Braund, Mr. Owen Harris</td>\n",
       "      <td>male</td>\n",
       "      <td>22.0</td>\n",
       "      <td>1</td>\n",
       "      <td>0</td>\n",
       "      <td>A/5 21171</td>\n",
       "      <td>7.2500</td>\n",
       "      <td>NaN</td>\n",
       "      <td>S</td>\n",
       "    </tr>\n",
       "    <tr>\n",
       "      <th>1</th>\n",
       "      <td>2</td>\n",
       "      <td>1</td>\n",
       "      <td>1</td>\n",
       "      <td>Cumings, Mrs. John Bradley (Florence Briggs Th...</td>\n",
       "      <td>female</td>\n",
       "      <td>38.0</td>\n",
       "      <td>1</td>\n",
       "      <td>0</td>\n",
       "      <td>PC 17599</td>\n",
       "      <td>71.2833</td>\n",
       "      <td>C85</td>\n",
       "      <td>C</td>\n",
       "    </tr>\n",
       "    <tr>\n",
       "      <th>2</th>\n",
       "      <td>3</td>\n",
       "      <td>1</td>\n",
       "      <td>3</td>\n",
       "      <td>Heikkinen, Miss. Laina</td>\n",
       "      <td>female</td>\n",
       "      <td>26.0</td>\n",
       "      <td>0</td>\n",
       "      <td>0</td>\n",
       "      <td>STON/O2. 3101282</td>\n",
       "      <td>7.9250</td>\n",
       "      <td>NaN</td>\n",
       "      <td>S</td>\n",
       "    </tr>\n",
       "    <tr>\n",
       "      <th>3</th>\n",
       "      <td>4</td>\n",
       "      <td>1</td>\n",
       "      <td>1</td>\n",
       "      <td>Futrelle, Mrs. Jacques Heath (Lily May Peel)</td>\n",
       "      <td>female</td>\n",
       "      <td>35.0</td>\n",
       "      <td>1</td>\n",
       "      <td>0</td>\n",
       "      <td>113803</td>\n",
       "      <td>53.1000</td>\n",
       "      <td>C123</td>\n",
       "      <td>S</td>\n",
       "    </tr>\n",
       "    <tr>\n",
       "      <th>4</th>\n",
       "      <td>5</td>\n",
       "      <td>0</td>\n",
       "      <td>3</td>\n",
       "      <td>Allen, Mr. William Henry</td>\n",
       "      <td>male</td>\n",
       "      <td>35.0</td>\n",
       "      <td>0</td>\n",
       "      <td>0</td>\n",
       "      <td>373450</td>\n",
       "      <td>8.0500</td>\n",
       "      <td>NaN</td>\n",
       "      <td>S</td>\n",
       "    </tr>\n",
       "    <tr>\n",
       "      <th>...</th>\n",
       "      <td>...</td>\n",
       "      <td>...</td>\n",
       "      <td>...</td>\n",
       "      <td>...</td>\n",
       "      <td>...</td>\n",
       "      <td>...</td>\n",
       "      <td>...</td>\n",
       "      <td>...</td>\n",
       "      <td>...</td>\n",
       "      <td>...</td>\n",
       "      <td>...</td>\n",
       "      <td>...</td>\n",
       "    </tr>\n",
       "    <tr>\n",
       "      <th>886</th>\n",
       "      <td>887</td>\n",
       "      <td>0</td>\n",
       "      <td>2</td>\n",
       "      <td>Montvila, Rev. Juozas</td>\n",
       "      <td>male</td>\n",
       "      <td>27.0</td>\n",
       "      <td>0</td>\n",
       "      <td>0</td>\n",
       "      <td>211536</td>\n",
       "      <td>13.0000</td>\n",
       "      <td>NaN</td>\n",
       "      <td>S</td>\n",
       "    </tr>\n",
       "    <tr>\n",
       "      <th>887</th>\n",
       "      <td>888</td>\n",
       "      <td>1</td>\n",
       "      <td>1</td>\n",
       "      <td>Graham, Miss. Margaret Edith</td>\n",
       "      <td>female</td>\n",
       "      <td>19.0</td>\n",
       "      <td>0</td>\n",
       "      <td>0</td>\n",
       "      <td>112053</td>\n",
       "      <td>30.0000</td>\n",
       "      <td>B42</td>\n",
       "      <td>S</td>\n",
       "    </tr>\n",
       "    <tr>\n",
       "      <th>888</th>\n",
       "      <td>889</td>\n",
       "      <td>0</td>\n",
       "      <td>3</td>\n",
       "      <td>Johnston, Miss. Catherine Helen \"Carrie\"</td>\n",
       "      <td>female</td>\n",
       "      <td>NaN</td>\n",
       "      <td>1</td>\n",
       "      <td>2</td>\n",
       "      <td>W./C. 6607</td>\n",
       "      <td>23.4500</td>\n",
       "      <td>NaN</td>\n",
       "      <td>S</td>\n",
       "    </tr>\n",
       "    <tr>\n",
       "      <th>889</th>\n",
       "      <td>890</td>\n",
       "      <td>1</td>\n",
       "      <td>1</td>\n",
       "      <td>Behr, Mr. Karl Howell</td>\n",
       "      <td>male</td>\n",
       "      <td>26.0</td>\n",
       "      <td>0</td>\n",
       "      <td>0</td>\n",
       "      <td>111369</td>\n",
       "      <td>30.0000</td>\n",
       "      <td>C148</td>\n",
       "      <td>C</td>\n",
       "    </tr>\n",
       "    <tr>\n",
       "      <th>890</th>\n",
       "      <td>891</td>\n",
       "      <td>0</td>\n",
       "      <td>3</td>\n",
       "      <td>Dooley, Mr. Patrick</td>\n",
       "      <td>male</td>\n",
       "      <td>32.0</td>\n",
       "      <td>0</td>\n",
       "      <td>0</td>\n",
       "      <td>370376</td>\n",
       "      <td>7.7500</td>\n",
       "      <td>NaN</td>\n",
       "      <td>Q</td>\n",
       "    </tr>\n",
       "  </tbody>\n",
       "</table>\n",
       "<p>891 rows × 12 columns</p>\n",
       "</div>"
      ],
      "text/plain": [
       "     PassengerId  Survived  Pclass  \\\n",
       "0              1         0       3   \n",
       "1              2         1       1   \n",
       "2              3         1       3   \n",
       "3              4         1       1   \n",
       "4              5         0       3   \n",
       "..           ...       ...     ...   \n",
       "886          887         0       2   \n",
       "887          888         1       1   \n",
       "888          889         0       3   \n",
       "889          890         1       1   \n",
       "890          891         0       3   \n",
       "\n",
       "                                                  Name     Sex   Age  SibSp  \\\n",
       "0                              Braund, Mr. Owen Harris    male  22.0      1   \n",
       "1    Cumings, Mrs. John Bradley (Florence Briggs Th...  female  38.0      1   \n",
       "2                               Heikkinen, Miss. Laina  female  26.0      0   \n",
       "3         Futrelle, Mrs. Jacques Heath (Lily May Peel)  female  35.0      1   \n",
       "4                             Allen, Mr. William Henry    male  35.0      0   \n",
       "..                                                 ...     ...   ...    ...   \n",
       "886                              Montvila, Rev. Juozas    male  27.0      0   \n",
       "887                       Graham, Miss. Margaret Edith  female  19.0      0   \n",
       "888           Johnston, Miss. Catherine Helen \"Carrie\"  female   NaN      1   \n",
       "889                              Behr, Mr. Karl Howell    male  26.0      0   \n",
       "890                                Dooley, Mr. Patrick    male  32.0      0   \n",
       "\n",
       "     Parch            Ticket     Fare Cabin Embarked  \n",
       "0        0         A/5 21171   7.2500   NaN        S  \n",
       "1        0          PC 17599  71.2833   C85        C  \n",
       "2        0  STON/O2. 3101282   7.9250   NaN        S  \n",
       "3        0            113803  53.1000  C123        S  \n",
       "4        0            373450   8.0500   NaN        S  \n",
       "..     ...               ...      ...   ...      ...  \n",
       "886      0            211536  13.0000   NaN        S  \n",
       "887      0            112053  30.0000   B42        S  \n",
       "888      2        W./C. 6607  23.4500   NaN        S  \n",
       "889      0            111369  30.0000  C148        C  \n",
       "890      0            370376   7.7500   NaN        Q  \n",
       "\n",
       "[891 rows x 12 columns]"
      ]
     },
     "execution_count": 3,
     "metadata": {},
     "output_type": "execute_result"
    }
   ],
   "source": [
    "\n",
    "train"
   ]
  },
  {
   "cell_type": "code",
   "execution_count": 4,
   "id": "b5823fbf",
   "metadata": {
    "execution": {
     "iopub.execute_input": "2023-03-04T11:05:14.174449Z",
     "iopub.status.busy": "2023-03-04T11:05:14.173807Z",
     "iopub.status.idle": "2023-03-04T11:05:14.181100Z",
     "shell.execute_reply": "2023-03-04T11:05:14.179636Z"
    },
    "papermill": {
     "duration": 0.020256,
     "end_time": "2023-03-04T11:05:14.183304",
     "exception": false,
     "start_time": "2023-03-04T11:05:14.163048",
     "status": "completed"
    },
    "tags": []
   },
   "outputs": [
    {
     "name": "stdout",
     "output_type": "stream",
     "text": [
      "--------------------------------------------------\n",
      "The shape of the train data is : (891, 12)\n",
      "--------------------------------------------------\n",
      "The shape of the test data is     : (418, 11)\n",
      "--------------------------------------------------\n"
     ]
    }
   ],
   "source": [
    "print('--'*25)\n",
    "print('The shape of the train data is : {}'.format(train.shape))\n",
    "print('--'*25)\n",
    "print('The shape of the test data is     : {}'.format(test.shape))\n",
    "print('--'*25)"
   ]
  },
  {
   "cell_type": "code",
   "execution_count": 5,
   "id": "a0154b24",
   "metadata": {
    "execution": {
     "iopub.execute_input": "2023-03-04T11:05:14.204453Z",
     "iopub.status.busy": "2023-03-04T11:05:14.204106Z",
     "iopub.status.idle": "2023-03-04T11:05:14.238985Z",
     "shell.execute_reply": "2023-03-04T11:05:14.237814Z"
    },
    "papermill": {
     "duration": 0.047483,
     "end_time": "2023-03-04T11:05:14.241190",
     "exception": false,
     "start_time": "2023-03-04T11:05:14.193707",
     "status": "completed"
    },
    "tags": []
   },
   "outputs": [
    {
     "data": {
      "text/html": [
       "<div>\n",
       "<style scoped>\n",
       "    .dataframe tbody tr th:only-of-type {\n",
       "        vertical-align: middle;\n",
       "    }\n",
       "\n",
       "    .dataframe tbody tr th {\n",
       "        vertical-align: top;\n",
       "    }\n",
       "\n",
       "    .dataframe thead th {\n",
       "        text-align: right;\n",
       "    }\n",
       "</style>\n",
       "<table border=\"1\" class=\"dataframe\">\n",
       "  <thead>\n",
       "    <tr style=\"text-align: right;\">\n",
       "      <th></th>\n",
       "      <th>PassengerId</th>\n",
       "      <th>Survived</th>\n",
       "      <th>Pclass</th>\n",
       "      <th>Age</th>\n",
       "      <th>SibSp</th>\n",
       "      <th>Parch</th>\n",
       "      <th>Fare</th>\n",
       "    </tr>\n",
       "  </thead>\n",
       "  <tbody>\n",
       "    <tr>\n",
       "      <th>count</th>\n",
       "      <td>891.000000</td>\n",
       "      <td>891.000000</td>\n",
       "      <td>891.000000</td>\n",
       "      <td>714.000000</td>\n",
       "      <td>891.000000</td>\n",
       "      <td>891.000000</td>\n",
       "      <td>891.000000</td>\n",
       "    </tr>\n",
       "    <tr>\n",
       "      <th>mean</th>\n",
       "      <td>446.000000</td>\n",
       "      <td>0.383838</td>\n",
       "      <td>2.308642</td>\n",
       "      <td>29.699118</td>\n",
       "      <td>0.523008</td>\n",
       "      <td>0.381594</td>\n",
       "      <td>32.204208</td>\n",
       "    </tr>\n",
       "    <tr>\n",
       "      <th>std</th>\n",
       "      <td>257.353842</td>\n",
       "      <td>0.486592</td>\n",
       "      <td>0.836071</td>\n",
       "      <td>14.526497</td>\n",
       "      <td>1.102743</td>\n",
       "      <td>0.806057</td>\n",
       "      <td>49.693429</td>\n",
       "    </tr>\n",
       "    <tr>\n",
       "      <th>min</th>\n",
       "      <td>1.000000</td>\n",
       "      <td>0.000000</td>\n",
       "      <td>1.000000</td>\n",
       "      <td>0.420000</td>\n",
       "      <td>0.000000</td>\n",
       "      <td>0.000000</td>\n",
       "      <td>0.000000</td>\n",
       "    </tr>\n",
       "    <tr>\n",
       "      <th>25%</th>\n",
       "      <td>223.500000</td>\n",
       "      <td>0.000000</td>\n",
       "      <td>2.000000</td>\n",
       "      <td>20.125000</td>\n",
       "      <td>0.000000</td>\n",
       "      <td>0.000000</td>\n",
       "      <td>7.910400</td>\n",
       "    </tr>\n",
       "    <tr>\n",
       "      <th>50%</th>\n",
       "      <td>446.000000</td>\n",
       "      <td>0.000000</td>\n",
       "      <td>3.000000</td>\n",
       "      <td>28.000000</td>\n",
       "      <td>0.000000</td>\n",
       "      <td>0.000000</td>\n",
       "      <td>14.454200</td>\n",
       "    </tr>\n",
       "    <tr>\n",
       "      <th>75%</th>\n",
       "      <td>668.500000</td>\n",
       "      <td>1.000000</td>\n",
       "      <td>3.000000</td>\n",
       "      <td>38.000000</td>\n",
       "      <td>1.000000</td>\n",
       "      <td>0.000000</td>\n",
       "      <td>31.000000</td>\n",
       "    </tr>\n",
       "    <tr>\n",
       "      <th>max</th>\n",
       "      <td>891.000000</td>\n",
       "      <td>1.000000</td>\n",
       "      <td>3.000000</td>\n",
       "      <td>80.000000</td>\n",
       "      <td>8.000000</td>\n",
       "      <td>6.000000</td>\n",
       "      <td>512.329200</td>\n",
       "    </tr>\n",
       "  </tbody>\n",
       "</table>\n",
       "</div>"
      ],
      "text/plain": [
       "       PassengerId    Survived      Pclass         Age       SibSp  \\\n",
       "count   891.000000  891.000000  891.000000  714.000000  891.000000   \n",
       "mean    446.000000    0.383838    2.308642   29.699118    0.523008   \n",
       "std     257.353842    0.486592    0.836071   14.526497    1.102743   \n",
       "min       1.000000    0.000000    1.000000    0.420000    0.000000   \n",
       "25%     223.500000    0.000000    2.000000   20.125000    0.000000   \n",
       "50%     446.000000    0.000000    3.000000   28.000000    0.000000   \n",
       "75%     668.500000    1.000000    3.000000   38.000000    1.000000   \n",
       "max     891.000000    1.000000    3.000000   80.000000    8.000000   \n",
       "\n",
       "            Parch        Fare  \n",
       "count  891.000000  891.000000  \n",
       "mean     0.381594   32.204208  \n",
       "std      0.806057   49.693429  \n",
       "min      0.000000    0.000000  \n",
       "25%      0.000000    7.910400  \n",
       "50%      0.000000   14.454200  \n",
       "75%      0.000000   31.000000  \n",
       "max      6.000000  512.329200  "
      ]
     },
     "execution_count": 5,
     "metadata": {},
     "output_type": "execute_result"
    }
   ],
   "source": [
    "train.describe()\n"
   ]
  },
  {
   "cell_type": "code",
   "execution_count": 6,
   "id": "9b267cb8",
   "metadata": {
    "execution": {
     "iopub.execute_input": "2023-03-04T11:05:14.260917Z",
     "iopub.status.busy": "2023-03-04T11:05:14.260525Z",
     "iopub.status.idle": "2023-03-04T11:05:14.268882Z",
     "shell.execute_reply": "2023-03-04T11:05:14.267020Z"
    },
    "papermill": {
     "duration": 0.021153,
     "end_time": "2023-03-04T11:05:14.271423",
     "exception": false,
     "start_time": "2023-03-04T11:05:14.250270",
     "status": "completed"
    },
    "tags": []
   },
   "outputs": [
    {
     "name": "stdout",
     "output_type": "stream",
     "text": [
      "Percentage of women survived 0.7420382165605095\n"
     ]
    }
   ],
   "source": [
    "women = train.loc[train.Sex == 'female']['Survived']\n",
    "rateW = sum(women)/ len(women)\n",
    "print('Percentage of women survived', rateW)"
   ]
  },
  {
   "cell_type": "code",
   "execution_count": 7,
   "id": "ffebb1ca",
   "metadata": {
    "execution": {
     "iopub.execute_input": "2023-03-04T11:05:14.291859Z",
     "iopub.status.busy": "2023-03-04T11:05:14.291470Z",
     "iopub.status.idle": "2023-03-04T11:05:14.299125Z",
     "shell.execute_reply": "2023-03-04T11:05:14.297361Z"
    },
    "papermill": {
     "duration": 0.021328,
     "end_time": "2023-03-04T11:05:14.302144",
     "exception": false,
     "start_time": "2023-03-04T11:05:14.280816",
     "status": "completed"
    },
    "tags": []
   },
   "outputs": [
    {
     "name": "stdout",
     "output_type": "stream",
     "text": [
      "Percentage of women survived 0.18890814558058924\n"
     ]
    }
   ],
   "source": [
    "men = train.loc[train.Sex =='male']['Survived']\n",
    "rateM = sum(men)/len(men)\n",
    "print('Percentage of women survived', rateM)"
   ]
  },
  {
   "cell_type": "code",
   "execution_count": 8,
   "id": "cdc54e34",
   "metadata": {
    "execution": {
     "iopub.execute_input": "2023-03-04T11:05:14.323377Z",
     "iopub.status.busy": "2023-03-04T11:05:14.322977Z",
     "iopub.status.idle": "2023-03-04T11:05:14.330709Z",
     "shell.execute_reply": "2023-03-04T11:05:14.329244Z"
    },
    "papermill": {
     "duration": 0.020728,
     "end_time": "2023-03-04T11:05:14.332919",
     "exception": false,
     "start_time": "2023-03-04T11:05:14.312191",
     "status": "completed"
    },
    "tags": []
   },
   "outputs": [],
   "source": [
    "num = train[['Parch', 'Age','SibSp','Fare','Pclass']]\n",
    "cat = train[['Sex', 'Survived','Ticket','Cabin','Embarked']]\n"
   ]
  },
  {
   "cell_type": "code",
   "execution_count": 9,
   "id": "84ea9fba",
   "metadata": {
    "execution": {
     "iopub.execute_input": "2023-03-04T11:05:14.353565Z",
     "iopub.status.busy": "2023-03-04T11:05:14.353104Z",
     "iopub.status.idle": "2023-03-04T11:05:15.125952Z",
     "shell.execute_reply": "2023-03-04T11:05:15.124516Z"
    },
    "papermill": {
     "duration": 0.785623,
     "end_time": "2023-03-04T11:05:15.127891",
     "exception": false,
     "start_time": "2023-03-04T11:05:14.342268",
     "status": "completed"
    },
    "tags": []
   },
   "outputs": [
    {
     "data": {
      "image/png": "[encoded data removed]",
      "text/plain": [
       "<Figure size 432x288 with 1 Axes>"
      ]
     },
     "metadata": {
      "needs_background": "light"
     },
     "output_type": "display_data"
    },
    {
     "data": {
      "image/png": "[encoded data removed]",
      "text/plain": [
       "<Figure size 432x288 with 1 Axes>"
      ]
     },
     "metadata": {
      "needs_background": "light"
     },
     "output_type": "display_data"
    },
    {
     "data": {
      "image/png": "[encoded data removed]",
      "text/plain": [
       "<Figure size 432x288 with 1 Axes>"
      ]
     },
     "metadata": {
      "needs_background": "light"
     },
     "output_type": "display_data"
    },
    {
     "data": {
      "image/png": "[encoded data removed]",
      "text/plain": [
       "<Figure size 432x288 with 1 Axes>"
      ]
     },
     "metadata": {
      "needs_background": "light"
     },
     "output_type": "display_data"
    },
    {
     "data": {
      "image/png": "[encoded data removed]",
      "text/plain": [
       "<Figure size 432x288 with 1 Axes>"
      ]
     },
     "metadata": {
      "needs_background": "light"
     },
     "output_type": "display_data"
    }
   ],
   "source": [
    "for i in num.columns:\n",
    "    plt.hist(num[i])\n",
    "    plt.title(i)\n",
    "    plt.show()"
   ]
  },
  {
   "cell_type": "code",
   "execution_count": 10,
   "id": "78255b50",
   "metadata": {
    "execution": {
     "iopub.execute_input": "2023-03-04T11:05:15.150913Z",
     "iopub.status.busy": "2023-03-04T11:05:15.150512Z",
     "iopub.status.idle": "2023-03-04T11:05:16.412965Z",
     "shell.execute_reply": "2023-03-04T11:05:16.411821Z"
    },
    "papermill": {
     "duration": 1.276529,
     "end_time": "2023-03-04T11:05:16.415100",
     "exception": false,
     "start_time": "2023-03-04T11:05:15.138571",
     "status": "completed"
    },
    "tags": []
   },
   "outputs": [
    {
     "name": "stdout",
     "output_type": "stream",
     "text": [
      "           Parch       Age     SibSp      Fare    Pclass\n",
      "Parch   1.000000 -0.189119  0.414838  0.216225  0.018443\n",
      "Age    -0.189119  1.000000 -0.308247  0.096067 -0.369226\n",
      "SibSp   0.414838 -0.308247  1.000000  0.159651  0.083081\n",
      "Fare    0.216225  0.096067  0.159651  1.000000 -0.549500\n",
      "Pclass  0.018443 -0.369226  0.083081 -0.549500  1.000000\n"
     ]
    },
    {
     "data": {
      "text/plain": [
       "<AxesSubplot:>"
      ]
     },
     "execution_count": 10,
     "metadata": {},
     "output_type": "execute_result"
    },
    {
     "data": {
      "image/png": "[encoded data removed]",
      "text/plain": [
       "<Figure size 432x288 with 2 Axes>"
      ]
     },
     "metadata": {
      "needs_background": "light"
     },
     "output_type": "display_data"
    }
   ],
   "source": [
    "import seaborn as sns \n",
    "print(num.corr())\n",
    " \n",
    "sns.heatmap(num.corr())"
   ]
  },
  {
   "cell_type": "code",
   "execution_count": 11,
   "id": "daedfb2f",
   "metadata": {
    "execution": {
     "iopub.execute_input": "2023-03-04T11:05:16.437897Z",
     "iopub.status.busy": "2023-03-04T11:05:16.436545Z",
     "iopub.status.idle": "2023-03-04T11:05:16.461400Z",
     "shell.execute_reply": "2023-03-04T11:05:16.460258Z"
    },
    "papermill": {
     "duration": 0.038454,
     "end_time": "2023-03-04T11:05:16.463757",
     "exception": false,
     "start_time": "2023-03-04T11:05:16.425303",
     "status": "completed"
    },
    "tags": []
   },
   "outputs": [
    {
     "data": {
      "text/html": [
       "<div>\n",
       "<style scoped>\n",
       "    .dataframe tbody tr th:only-of-type {\n",
       "        vertical-align: middle;\n",
       "    }\n",
       "\n",
       "    .dataframe tbody tr th {\n",
       "        vertical-align: top;\n",
       "    }\n",
       "\n",
       "    .dataframe thead th {\n",
       "        text-align: right;\n",
       "    }\n",
       "</style>\n",
       "<table border=\"1\" class=\"dataframe\">\n",
       "  <thead>\n",
       "    <tr style=\"text-align: right;\">\n",
       "      <th></th>\n",
       "      <th>Age</th>\n",
       "      <th>Fare</th>\n",
       "      <th>Parch</th>\n",
       "      <th>Pclass</th>\n",
       "      <th>SibSp</th>\n",
       "    </tr>\n",
       "    <tr>\n",
       "      <th>Survived</th>\n",
       "      <th></th>\n",
       "      <th></th>\n",
       "      <th></th>\n",
       "      <th></th>\n",
       "      <th></th>\n",
       "    </tr>\n",
       "  </thead>\n",
       "  <tbody>\n",
       "    <tr>\n",
       "      <th>0</th>\n",
       "      <td>30.626179</td>\n",
       "      <td>22.117887</td>\n",
       "      <td>0.329690</td>\n",
       "      <td>2.531876</td>\n",
       "      <td>0.553734</td>\n",
       "    </tr>\n",
       "    <tr>\n",
       "      <th>1</th>\n",
       "      <td>28.343690</td>\n",
       "      <td>48.395408</td>\n",
       "      <td>0.464912</td>\n",
       "      <td>1.950292</td>\n",
       "      <td>0.473684</td>\n",
       "    </tr>\n",
       "  </tbody>\n",
       "</table>\n",
       "</div>"
      ],
      "text/plain": [
       "                Age       Fare     Parch    Pclass     SibSp\n",
       "Survived                                                    \n",
       "0         30.626179  22.117887  0.329690  2.531876  0.553734\n",
       "1         28.343690  48.395408  0.464912  1.950292  0.473684"
      ]
     },
     "execution_count": 11,
     "metadata": {},
     "output_type": "execute_result"
    }
   ],
   "source": [
    "pd.pivot_table(train, index= 'Survived', values =['Age','Parch','SibSp','Fare','Pclass'])"
   ]
  },
  {
   "cell_type": "code",
   "execution_count": 12,
   "id": "e1606265",
   "metadata": {
    "execution": {
     "iopub.execute_input": "2023-03-04T11:05:16.486019Z",
     "iopub.status.busy": "2023-03-04T11:05:16.485638Z",
     "iopub.status.idle": "2023-03-04T11:05:24.667219Z",
     "shell.execute_reply": "2023-03-04T11:05:24.665722Z"
    },
    "papermill": {
     "duration": 8.195162,
     "end_time": "2023-03-04T11:05:24.669271",
     "exception": false,
     "start_time": "2023-03-04T11:05:16.474109",
     "status": "completed"
    },
    "tags": []
   },
   "outputs": [
    {
     "name": "stderr",
     "output_type": "stream",
     "text": [
      "/opt/conda/lib/python3.7/site-packages/seaborn/_decorators.py:43: FutureWarning: Pass the following variables as keyword args: x, y. From version 0.12, the only valid positional argument will be `data`, and passing other arguments without an explicit keyword will result in an error or misinterpretation.\n",
      "  FutureWarning\n"
     ]
    },
    {
     "data": {
      "image/png": "[encoded data removed]",
      "text/plain": [
       "<Figure size 432x288 with 1 Axes>"
      ]
     },
     "metadata": {
      "needs_background": "light"
     },
     "output_type": "display_data"
    },
    {
     "name": "stderr",
     "output_type": "stream",
     "text": [
      "/opt/conda/lib/python3.7/site-packages/seaborn/_decorators.py:43: FutureWarning: Pass the following variables as keyword args: x, y. From version 0.12, the only valid positional argument will be `data`, and passing other arguments without an explicit keyword will result in an error or misinterpretation.\n",
      "  FutureWarning\n"
     ]
    },
    {
     "data": {
      "image/png": "[encoded data removed]",
      "text/plain": [
       "<Figure size 432x288 with 1 Axes>"
      ]
     },
     "metadata": {
      "needs_background": "light"
     },
     "output_type": "display_data"
    },
    {
     "name": "stderr",
     "output_type": "stream",
     "text": [
      "/opt/conda/lib/python3.7/site-packages/seaborn/_decorators.py:43: FutureWarning: Pass the following variables as keyword args: x, y. From version 0.12, the only valid positional argument will be `data`, and passing other arguments without an explicit keyword will result in an error or misinterpretation.\n",
      "  FutureWarning\n"
     ]
    },
    {
     "data": {
      "image/png": "[encoded data removed]",
      "text/plain": [
       "<Figure size 432x288 with 1 Axes>"
      ]
     },
     "metadata": {
      "needs_background": "light"
     },
     "output_type": "display_data"
    },
    {
     "name": "stderr",
     "output_type": "stream",
     "text": [
      "/opt/conda/lib/python3.7/site-packages/seaborn/_decorators.py:43: FutureWarning: Pass the following variables as keyword args: x, y. From version 0.12, the only valid positional argument will be `data`, and passing other arguments without an explicit keyword will result in an error or misinterpretation.\n",
      "  FutureWarning\n"
     ]
    },
    {
     "data": {
      "image/png": "[encoded data removed]",
      "text/plain": [
       "<Figure size 432x288 with 1 Axes>"
      ]
     },
     "metadata": {
      "needs_background": "light"
     },
     "output_type": "display_data"
    },
    {
     "name": "stderr",
     "output_type": "stream",
     "text": [
      "/opt/conda/lib/python3.7/site-packages/seaborn/_decorators.py:43: FutureWarning: Pass the following variables as keyword args: x, y. From version 0.12, the only valid positional argument will be `data`, and passing other arguments without an explicit keyword will result in an error or misinterpretation.\n",
      "  FutureWarning\n"
     ]
    },
    {
     "data": {
      "image/png": "[encoded data removed]",
      "text/plain": [
       "<Figure size 432x288 with 1 Axes>"
      ]
     },
     "metadata": {
      "needs_background": "light"
     },
     "output_type": "display_data"
    }
   ],
   "source": [
    "for i in cat.columns:\n",
    "    sns.barplot(cat[i].value_counts().index,cat[i].value_counts()).set_title(i)\n",
    "    plt.show()"
   ]
  },
  {
   "cell_type": "code",
   "execution_count": 13,
   "id": "0cf11795",
   "metadata": {
    "execution": {
     "iopub.execute_input": "2023-03-04T11:05:24.700354Z",
     "iopub.status.busy": "2023-03-04T11:05:24.699749Z",
     "iopub.status.idle": "2023-03-04T11:05:24.736468Z",
     "shell.execute_reply": "2023-03-04T11:05:24.735315Z"
    },
    "papermill": {
     "duration": 0.054048,
     "end_time": "2023-03-04T11:05:24.738441",
     "exception": false,
     "start_time": "2023-03-04T11:05:24.684393",
     "status": "completed"
    },
    "tags": []
   },
   "outputs": [
    {
     "name": "stdout",
     "output_type": "stream",
     "text": [
      "Pclass      1   2    3\n",
      "Survived              \n",
      "0          80  97  372\n",
      "1         136  87  119\n",
      "Sex       female  male\n",
      "Survived              \n",
      "0             81   468\n",
      "1            233   109\n",
      "Embarked   C   Q    S\n",
      "Survived             \n",
      "0         75  47  427\n",
      "1         93  30  217\n"
     ]
    }
   ],
   "source": [
    "\n",
    "print(pd.pivot_table(train, index = 'Survived', columns = 'Pclass', values = 'Ticket' ,aggfunc ='count'))\n",
    "print(pd.pivot_table(train, index = 'Survived', columns = 'Sex', values = 'Ticket' ,aggfunc ='count'))\n",
    "print(pd.pivot_table(train, index = 'Survived', columns = 'Embarked', values = 'Ticket' ,aggfunc ='count'))\n",
    " "
   ]
  },
  {
   "cell_type": "code",
   "execution_count": 14,
   "id": "235ed481",
   "metadata": {
    "execution": {
     "iopub.execute_input": "2023-03-04T11:05:24.764006Z",
     "iopub.status.busy": "2023-03-04T11:05:24.763588Z",
     "iopub.status.idle": "2023-03-04T11:05:24.769798Z",
     "shell.execute_reply": "2023-03-04T11:05:24.768600Z"
    },
    "papermill": {
     "duration": 0.021351,
     "end_time": "2023-03-04T11:05:24.771691",
     "exception": false,
     "start_time": "2023-03-04T11:05:24.750340",
     "status": "completed"
    },
    "tags": []
   },
   "outputs": [],
   "source": [
    "train['Embarked'].fillna(value='S', inplace=True)"
   ]
  },
  {
   "cell_type": "code",
   "execution_count": 15,
   "id": "7bc0b8c4",
   "metadata": {
    "execution": {
     "iopub.execute_input": "2023-03-04T11:05:24.796445Z",
     "iopub.status.busy": "2023-03-04T11:05:24.796010Z",
     "iopub.status.idle": "2023-03-04T11:05:24.814553Z",
     "shell.execute_reply": "2023-03-04T11:05:24.813058Z"
    },
    "papermill": {
     "duration": 0.033785,
     "end_time": "2023-03-04T11:05:24.817203",
     "exception": false,
     "start_time": "2023-03-04T11:05:24.783418",
     "status": "completed"
    },
    "tags": []
   },
   "outputs": [
    {
     "data": {
      "text/plain": [
       "35.0"
      ]
     },
     "execution_count": 15,
     "metadata": {},
     "output_type": "execute_result"
    }
   ],
   "source": [
    "mean_age_miss = train[train [\"Name\"].str.contains('Miss.', na=False)]['Age'].median().round()\n",
    "mean_age_mrs = train[train[\"Name\"].str.contains('Mrs.', na=False)]['Age'].median().round()\n",
    "mean_age_mr = train[train[\"Name\"].str.contains('Mr.', na=False)]['Age'].median().round()\n",
    "mean_age_master = train[train[\"Name\"].str.contains('Master.', na=False)]['Age'].median().round()\n",
    "mean_age_mrs"
   ]
  },
  {
   "cell_type": "code",
   "execution_count": 16,
   "id": "f2c1f7a8",
   "metadata": {
    "execution": {
     "iopub.execute_input": "2023-03-04T11:05:24.843608Z",
     "iopub.status.busy": "2023-03-04T11:05:24.843265Z",
     "iopub.status.idle": "2023-03-04T11:05:24.853869Z",
     "shell.execute_reply": "2023-03-04T11:05:24.852750Z"
    },
    "papermill": {
     "duration": 0.026642,
     "end_time": "2023-03-04T11:05:24.856544",
     "exception": false,
     "start_time": "2023-03-04T11:05:24.829902",
     "status": "completed"
    },
    "tags": []
   },
   "outputs": [
    {
     "data": {
      "text/plain": [
       "0    687\n",
       "1    180\n",
       "2     16\n",
       "3      6\n",
       "4      2\n",
       "Name: cabin_multiple, dtype: int64"
      ]
     },
     "execution_count": 16,
     "metadata": {},
     "output_type": "execute_result"
    }
   ],
   "source": [
    "\n",
    "cat.Cabin\n",
    "train['cabin_multiple'] = train.Cabin.apply(lambda x: 0 if pd.isna(x) else len(x.split(' ')))\n",
    "# after looking at this, we may want to look at cabin by letter or by number. Let's create some categories for this \n",
    "# letters \n",
    "# multiple letters \n",
    "train['cabin_multiple'].value_counts()"
   ]
  },
  {
   "cell_type": "code",
   "execution_count": 17,
   "id": "0dc566c0",
   "metadata": {
    "execution": {
     "iopub.execute_input": "2023-03-04T11:05:24.882508Z",
     "iopub.status.busy": "2023-03-04T11:05:24.882141Z",
     "iopub.status.idle": "2023-03-04T11:05:24.901726Z",
     "shell.execute_reply": "2023-03-04T11:05:24.900046Z"
    },
    "papermill": {
     "duration": 0.035261,
     "end_time": "2023-03-04T11:05:24.904039",
     "exception": false,
     "start_time": "2023-03-04T11:05:24.868778",
     "status": "completed"
    },
    "tags": []
   },
   "outputs": [
    {
     "data": {
      "text/html": [
       "<div>\n",
       "<style scoped>\n",
       "    .dataframe tbody tr th:only-of-type {\n",
       "        vertical-align: middle;\n",
       "    }\n",
       "\n",
       "    .dataframe tbody tr th {\n",
       "        vertical-align: top;\n",
       "    }\n",
       "\n",
       "    .dataframe thead th {\n",
       "        text-align: right;\n",
       "    }\n",
       "</style>\n",
       "<table border=\"1\" class=\"dataframe\">\n",
       "  <thead>\n",
       "    <tr style=\"text-align: right;\">\n",
       "      <th>cabin_multiple</th>\n",
       "      <th>0</th>\n",
       "      <th>1</th>\n",
       "      <th>2</th>\n",
       "      <th>3</th>\n",
       "      <th>4</th>\n",
       "    </tr>\n",
       "    <tr>\n",
       "      <th>Survived</th>\n",
       "      <th></th>\n",
       "      <th></th>\n",
       "      <th></th>\n",
       "      <th></th>\n",
       "      <th></th>\n",
       "    </tr>\n",
       "  </thead>\n",
       "  <tbody>\n",
       "    <tr>\n",
       "      <th>0</th>\n",
       "      <td>481.0</td>\n",
       "      <td>58.0</td>\n",
       "      <td>7.0</td>\n",
       "      <td>3.0</td>\n",
       "      <td>NaN</td>\n",
       "    </tr>\n",
       "    <tr>\n",
       "      <th>1</th>\n",
       "      <td>206.0</td>\n",
       "      <td>122.0</td>\n",
       "      <td>9.0</td>\n",
       "      <td>3.0</td>\n",
       "      <td>2.0</td>\n",
       "    </tr>\n",
       "  </tbody>\n",
       "</table>\n",
       "</div>"
      ],
      "text/plain": [
       "cabin_multiple      0      1    2    3    4\n",
       "Survived                                   \n",
       "0               481.0   58.0  7.0  3.0  NaN\n",
       "1               206.0  122.0  9.0  3.0  2.0"
      ]
     },
     "execution_count": 17,
     "metadata": {},
     "output_type": "execute_result"
    }
   ],
   "source": [
    "pd.pivot_table(train, index = 'Survived', columns = 'cabin_multiple', values = 'Ticket' ,aggfunc ='count')"
   ]
  },
  {
   "cell_type": "code",
   "execution_count": 18,
   "id": "1d409806",
   "metadata": {
    "execution": {
     "iopub.execute_input": "2023-03-04T11:05:24.929807Z",
     "iopub.status.busy": "2023-03-04T11:05:24.929347Z",
     "iopub.status.idle": "2023-03-04T11:05:24.937255Z",
     "shell.execute_reply": "2023-03-04T11:05:24.936065Z"
    },
    "papermill": {
     "duration": 0.023308,
     "end_time": "2023-03-04T11:05:24.939386",
     "exception": false,
     "start_time": "2023-03-04T11:05:24.916078",
     "status": "completed"
    },
    "tags": []
   },
   "outputs": [],
   "source": [
    "train['cabin_adv'] = train.Cabin.apply(lambda x: str(x)[0])"
   ]
  },
  {
   "cell_type": "code",
   "execution_count": 19,
   "id": "a32c66b0",
   "metadata": {
    "execution": {
     "iopub.execute_input": "2023-03-04T11:05:24.966212Z",
     "iopub.status.busy": "2023-03-04T11:05:24.965830Z",
     "iopub.status.idle": "2023-03-04T11:05:24.991133Z",
     "shell.execute_reply": "2023-03-04T11:05:24.989897Z"
    },
    "papermill": {
     "duration": 0.042234,
     "end_time": "2023-03-04T11:05:24.993640",
     "exception": false,
     "start_time": "2023-03-04T11:05:24.951406",
     "status": "completed"
    },
    "tags": []
   },
   "outputs": [
    {
     "name": "stdout",
     "output_type": "stream",
     "text": [
      "n    687\n",
      "C     59\n",
      "B     47\n",
      "D     33\n",
      "E     32\n",
      "A     15\n",
      "F     13\n",
      "G      4\n",
      "T      1\n",
      "Name: cabin_adv, dtype: int64\n"
     ]
    },
    {
     "data": {
      "text/html": [
       "<div>\n",
       "<style scoped>\n",
       "    .dataframe tbody tr th:only-of-type {\n",
       "        vertical-align: middle;\n",
       "    }\n",
       "\n",
       "    .dataframe tbody tr th {\n",
       "        vertical-align: top;\n",
       "    }\n",
       "\n",
       "    .dataframe thead th {\n",
       "        text-align: right;\n",
       "    }\n",
       "</style>\n",
       "<table border=\"1\" class=\"dataframe\">\n",
       "  <thead>\n",
       "    <tr style=\"text-align: right;\">\n",
       "      <th>cabin_adv</th>\n",
       "      <th>A</th>\n",
       "      <th>B</th>\n",
       "      <th>C</th>\n",
       "      <th>D</th>\n",
       "      <th>E</th>\n",
       "      <th>F</th>\n",
       "      <th>G</th>\n",
       "      <th>T</th>\n",
       "      <th>n</th>\n",
       "    </tr>\n",
       "    <tr>\n",
       "      <th>Survived</th>\n",
       "      <th></th>\n",
       "      <th></th>\n",
       "      <th></th>\n",
       "      <th></th>\n",
       "      <th></th>\n",
       "      <th></th>\n",
       "      <th></th>\n",
       "      <th></th>\n",
       "      <th></th>\n",
       "    </tr>\n",
       "  </thead>\n",
       "  <tbody>\n",
       "    <tr>\n",
       "      <th>0</th>\n",
       "      <td>8.0</td>\n",
       "      <td>12.0</td>\n",
       "      <td>24.0</td>\n",
       "      <td>8.0</td>\n",
       "      <td>8.0</td>\n",
       "      <td>5.0</td>\n",
       "      <td>2.0</td>\n",
       "      <td>1.0</td>\n",
       "      <td>481.0</td>\n",
       "    </tr>\n",
       "    <tr>\n",
       "      <th>1</th>\n",
       "      <td>7.0</td>\n",
       "      <td>35.0</td>\n",
       "      <td>35.0</td>\n",
       "      <td>25.0</td>\n",
       "      <td>24.0</td>\n",
       "      <td>8.0</td>\n",
       "      <td>2.0</td>\n",
       "      <td>NaN</td>\n",
       "      <td>206.0</td>\n",
       "    </tr>\n",
       "  </tbody>\n",
       "</table>\n",
       "</div>"
      ],
      "text/plain": [
       "cabin_adv    A     B     C     D     E    F    G    T      n\n",
       "Survived                                                    \n",
       "0          8.0  12.0  24.0   8.0   8.0  5.0  2.0  1.0  481.0\n",
       "1          7.0  35.0  35.0  25.0  24.0  8.0  2.0  NaN  206.0"
      ]
     },
     "execution_count": 19,
     "metadata": {},
     "output_type": "execute_result"
    }
   ],
   "source": [
    "#comparing surivial rate by cabin\n",
    "print(train.cabin_adv.value_counts())\n",
    "pd.pivot_table(train,index='Survived',columns='cabin_adv', values = 'Name', aggfunc='count')"
   ]
  },
  {
   "cell_type": "code",
   "execution_count": null,
   "id": "a5c1ceac",
   "metadata": {
    "papermill": {
     "duration": 0.012217,
     "end_time": "2023-03-04T11:05:25.019055",
     "exception": false,
     "start_time": "2023-03-04T11:05:25.006838",
     "status": "completed"
    },
    "tags": []
   },
   "outputs": [],
   "source": [
    "\n",
    "\n"
   ]
  },
  {
   "cell_type": "markdown",
   "id": "b5c36dd5",
   "metadata": {
    "papermill": {
     "duration": 0.012019,
     "end_time": "2023-03-04T11:05:25.044054",
     "exception": false,
     "start_time": "2023-03-04T11:05:25.032035",
     "status": "completed"
    },
    "tags": []
   },
   "source": [
    "Clean and fill the data"
   ]
  },
  {
   "cell_type": "code",
   "execution_count": 20,
   "id": "1dfb3499",
   "metadata": {
    "execution": {
     "iopub.execute_input": "2023-03-04T11:05:25.070358Z",
     "iopub.status.busy": "2023-03-04T11:05:25.069962Z",
     "iopub.status.idle": "2023-03-04T11:05:25.085329Z",
     "shell.execute_reply": "2023-03-04T11:05:25.084064Z"
    },
    "papermill": {
     "duration": 0.031295,
     "end_time": "2023-03-04T11:05:25.087525",
     "exception": false,
     "start_time": "2023-03-04T11:05:25.056230",
     "status": "completed"
    },
    "tags": []
   },
   "outputs": [],
   "source": [
    "def clean(train):\n",
    "\n",
    "    train = train.drop([\"Cabin\",\"Ticket\",\"Name\"], axis = 1)\n",
    "    cols = [\"Pclass\",\"SibSp\",\"Parch\",\"Age\",\"Fare\"]\n",
    "    for col in cols:\n",
    "        train[col].fillna(train[col].median(),inplace = True)\n",
    "    return train\n",
    "\n",
    "train = clean(train)\n",
    "test = clean(test)"
   ]
  },
  {
   "cell_type": "code",
   "execution_count": 21,
   "id": "416ef254",
   "metadata": {
    "execution": {
     "iopub.execute_input": "2023-03-04T11:05:25.113558Z",
     "iopub.status.busy": "2023-03-04T11:05:25.113157Z",
     "iopub.status.idle": "2023-03-04T11:05:25.137226Z",
     "shell.execute_reply": "2023-03-04T11:05:25.136068Z"
    },
    "papermill": {
     "duration": 0.039365,
     "end_time": "2023-03-04T11:05:25.139148",
     "exception": false,
     "start_time": "2023-03-04T11:05:25.099783",
     "status": "completed"
    },
    "tags": []
   },
   "outputs": [
    {
     "data": {
      "text/html": [
       "<div>\n",
       "<style scoped>\n",
       "    .dataframe tbody tr th:only-of-type {\n",
       "        vertical-align: middle;\n",
       "    }\n",
       "\n",
       "    .dataframe tbody tr th {\n",
       "        vertical-align: top;\n",
       "    }\n",
       "\n",
       "    .dataframe thead th {\n",
       "        text-align: right;\n",
       "    }\n",
       "</style>\n",
       "<table border=\"1\" class=\"dataframe\">\n",
       "  <thead>\n",
       "    <tr style=\"text-align: right;\">\n",
       "      <th></th>\n",
       "      <th>PassengerId</th>\n",
       "      <th>Survived</th>\n",
       "      <th>Pclass</th>\n",
       "      <th>Sex</th>\n",
       "      <th>Age</th>\n",
       "      <th>SibSp</th>\n",
       "      <th>Parch</th>\n",
       "      <th>Fare</th>\n",
       "      <th>Embarked</th>\n",
       "      <th>cabin_multiple</th>\n",
       "      <th>cabin_adv</th>\n",
       "    </tr>\n",
       "  </thead>\n",
       "  <tbody>\n",
       "    <tr>\n",
       "      <th>0</th>\n",
       "      <td>1</td>\n",
       "      <td>0</td>\n",
       "      <td>3</td>\n",
       "      <td>male</td>\n",
       "      <td>22.0</td>\n",
       "      <td>1</td>\n",
       "      <td>0</td>\n",
       "      <td>7.2500</td>\n",
       "      <td>S</td>\n",
       "      <td>0</td>\n",
       "      <td>n</td>\n",
       "    </tr>\n",
       "    <tr>\n",
       "      <th>1</th>\n",
       "      <td>2</td>\n",
       "      <td>1</td>\n",
       "      <td>1</td>\n",
       "      <td>female</td>\n",
       "      <td>38.0</td>\n",
       "      <td>1</td>\n",
       "      <td>0</td>\n",
       "      <td>71.2833</td>\n",
       "      <td>C</td>\n",
       "      <td>1</td>\n",
       "      <td>C</td>\n",
       "    </tr>\n",
       "    <tr>\n",
       "      <th>2</th>\n",
       "      <td>3</td>\n",
       "      <td>1</td>\n",
       "      <td>3</td>\n",
       "      <td>female</td>\n",
       "      <td>26.0</td>\n",
       "      <td>0</td>\n",
       "      <td>0</td>\n",
       "      <td>7.9250</td>\n",
       "      <td>S</td>\n",
       "      <td>0</td>\n",
       "      <td>n</td>\n",
       "    </tr>\n",
       "    <tr>\n",
       "      <th>3</th>\n",
       "      <td>4</td>\n",
       "      <td>1</td>\n",
       "      <td>1</td>\n",
       "      <td>female</td>\n",
       "      <td>35.0</td>\n",
       "      <td>1</td>\n",
       "      <td>0</td>\n",
       "      <td>53.1000</td>\n",
       "      <td>S</td>\n",
       "      <td>1</td>\n",
       "      <td>C</td>\n",
       "    </tr>\n",
       "    <tr>\n",
       "      <th>4</th>\n",
       "      <td>5</td>\n",
       "      <td>0</td>\n",
       "      <td>3</td>\n",
       "      <td>male</td>\n",
       "      <td>35.0</td>\n",
       "      <td>0</td>\n",
       "      <td>0</td>\n",
       "      <td>8.0500</td>\n",
       "      <td>S</td>\n",
       "      <td>0</td>\n",
       "      <td>n</td>\n",
       "    </tr>\n",
       "    <tr>\n",
       "      <th>...</th>\n",
       "      <td>...</td>\n",
       "      <td>...</td>\n",
       "      <td>...</td>\n",
       "      <td>...</td>\n",
       "      <td>...</td>\n",
       "      <td>...</td>\n",
       "      <td>...</td>\n",
       "      <td>...</td>\n",
       "      <td>...</td>\n",
       "      <td>...</td>\n",
       "      <td>...</td>\n",
       "    </tr>\n",
       "    <tr>\n",
       "      <th>886</th>\n",
       "      <td>887</td>\n",
       "      <td>0</td>\n",
       "      <td>2</td>\n",
       "      <td>male</td>\n",
       "      <td>27.0</td>\n",
       "      <td>0</td>\n",
       "      <td>0</td>\n",
       "      <td>13.0000</td>\n",
       "      <td>S</td>\n",
       "      <td>0</td>\n",
       "      <td>n</td>\n",
       "    </tr>\n",
       "    <tr>\n",
       "      <th>887</th>\n",
       "      <td>888</td>\n",
       "      <td>1</td>\n",
       "      <td>1</td>\n",
       "      <td>female</td>\n",
       "      <td>19.0</td>\n",
       "      <td>0</td>\n",
       "      <td>0</td>\n",
       "      <td>30.0000</td>\n",
       "      <td>S</td>\n",
       "      <td>1</td>\n",
       "      <td>B</td>\n",
       "    </tr>\n",
       "    <tr>\n",
       "      <th>888</th>\n",
       "      <td>889</td>\n",
       "      <td>0</td>\n",
       "      <td>3</td>\n",
       "      <td>female</td>\n",
       "      <td>28.0</td>\n",
       "      <td>1</td>\n",
       "      <td>2</td>\n",
       "      <td>23.4500</td>\n",
       "      <td>S</td>\n",
       "      <td>0</td>\n",
       "      <td>n</td>\n",
       "    </tr>\n",
       "    <tr>\n",
       "      <th>889</th>\n",
       "      <td>890</td>\n",
       "      <td>1</td>\n",
       "      <td>1</td>\n",
       "      <td>male</td>\n",
       "      <td>26.0</td>\n",
       "      <td>0</td>\n",
       "      <td>0</td>\n",
       "      <td>30.0000</td>\n",
       "      <td>C</td>\n",
       "      <td>1</td>\n",
       "      <td>C</td>\n",
       "    </tr>\n",
       "    <tr>\n",
       "      <th>890</th>\n",
       "      <td>891</td>\n",
       "      <td>0</td>\n",
       "      <td>3</td>\n",
       "      <td>male</td>\n",
       "      <td>32.0</td>\n",
       "      <td>0</td>\n",
       "      <td>0</td>\n",
       "      <td>7.7500</td>\n",
       "      <td>Q</td>\n",
       "      <td>0</td>\n",
       "      <td>n</td>\n",
       "    </tr>\n",
       "  </tbody>\n",
       "</table>\n",
       "<p>891 rows × 11 columns</p>\n",
       "</div>"
      ],
      "text/plain": [
       "     PassengerId  Survived  Pclass     Sex   Age  SibSp  Parch     Fare  \\\n",
       "0              1         0       3    male  22.0      1      0   7.2500   \n",
       "1              2         1       1  female  38.0      1      0  71.2833   \n",
       "2              3         1       3  female  26.0      0      0   7.9250   \n",
       "3              4         1       1  female  35.0      1      0  53.1000   \n",
       "4              5         0       3    male  35.0      0      0   8.0500   \n",
       "..           ...       ...     ...     ...   ...    ...    ...      ...   \n",
       "886          887         0       2    male  27.0      0      0  13.0000   \n",
       "887          888         1       1  female  19.0      0      0  30.0000   \n",
       "888          889         0       3  female  28.0      1      2  23.4500   \n",
       "889          890         1       1    male  26.0      0      0  30.0000   \n",
       "890          891         0       3    male  32.0      0      0   7.7500   \n",
       "\n",
       "    Embarked  cabin_multiple cabin_adv  \n",
       "0          S               0         n  \n",
       "1          C               1         C  \n",
       "2          S               0         n  \n",
       "3          S               1         C  \n",
       "4          S               0         n  \n",
       "..       ...             ...       ...  \n",
       "886        S               0         n  \n",
       "887        S               1         B  \n",
       "888        S               0         n  \n",
       "889        C               1         C  \n",
       "890        Q               0         n  \n",
       "\n",
       "[891 rows x 11 columns]"
      ]
     },
     "execution_count": 21,
     "metadata": {},
     "output_type": "execute_result"
    }
   ],
   "source": [
    "train"
   ]
  },
  {
   "cell_type": "markdown",
   "id": "387284f1",
   "metadata": {
    "papermill": {
     "duration": 0.011944,
     "end_time": "2023-03-04T11:05:25.163485",
     "exception": false,
     "start_time": "2023-03-04T11:05:25.151541",
     "status": "completed"
    },
    "tags": []
   },
   "source": [
    "Checking the Missing Values"
   ]
  },
  {
   "cell_type": "code",
   "execution_count": 22,
   "id": "54506261",
   "metadata": {
    "execution": {
     "iopub.execute_input": "2023-03-04T11:05:25.189455Z",
     "iopub.status.busy": "2023-03-04T11:05:25.189043Z",
     "iopub.status.idle": "2023-03-04T11:05:25.204519Z",
     "shell.execute_reply": "2023-03-04T11:05:25.202905Z"
    },
    "papermill": {
     "duration": 0.031348,
     "end_time": "2023-03-04T11:05:25.207110",
     "exception": false,
     "start_time": "2023-03-04T11:05:25.175762",
     "status": "completed"
    },
    "tags": []
   },
   "outputs": [
    {
     "name": "stdout",
     "output_type": "stream",
     "text": [
      "<class 'pandas.core.frame.DataFrame'>\n",
      "RangeIndex: 891 entries, 0 to 890\n",
      "Data columns (total 11 columns):\n",
      " #   Column          Non-Null Count  Dtype  \n",
      "---  ------          --------------  -----  \n",
      " 0   PassengerId     891 non-null    int64  \n",
      " 1   Survived        891 non-null    int64  \n",
      " 2   Pclass          891 non-null    int64  \n",
      " 3   Sex             891 non-null    object \n",
      " 4   Age             891 non-null    float64\n",
      " 5   SibSp           891 non-null    int64  \n",
      " 6   Parch           891 non-null    int64  \n",
      " 7   Fare            891 non-null    float64\n",
      " 8   Embarked        891 non-null    object \n",
      " 9   cabin_multiple  891 non-null    int64  \n",
      " 10  cabin_adv       891 non-null    object \n",
      "dtypes: float64(2), int64(6), object(3)\n",
      "memory usage: 76.7+ KB\n"
     ]
    }
   ],
   "source": [
    "train.info()"
   ]
  },
  {
   "cell_type": "code",
   "execution_count": 23,
   "id": "0a4d0793",
   "metadata": {
    "execution": {
     "iopub.execute_input": "2023-03-04T11:05:25.233808Z",
     "iopub.status.busy": "2023-03-04T11:05:25.233408Z",
     "iopub.status.idle": "2023-03-04T11:05:25.241717Z",
     "shell.execute_reply": "2023-03-04T11:05:25.240010Z"
    },
    "papermill": {
     "duration": 0.024262,
     "end_time": "2023-03-04T11:05:25.244145",
     "exception": false,
     "start_time": "2023-03-04T11:05:25.219883",
     "status": "completed"
    },
    "tags": []
   },
   "outputs": [
    {
     "name": "stdout",
     "output_type": "stream",
     "text": [
      "PassengerId       0\n",
      "Survived          0\n",
      "Pclass            0\n",
      "Sex               0\n",
      "Age               0\n",
      "SibSp             0\n",
      "Parch             0\n",
      "Fare              0\n",
      "Embarked          0\n",
      "cabin_multiple    0\n",
      "cabin_adv         0\n",
      "dtype: int64\n"
     ]
    }
   ],
   "source": [
    "print(train.isnull().sum())"
   ]
  },
  {
   "cell_type": "code",
   "execution_count": 24,
   "id": "c581866c",
   "metadata": {
    "execution": {
     "iopub.execute_input": "2023-03-04T11:05:25.270938Z",
     "iopub.status.busy": "2023-03-04T11:05:25.270569Z",
     "iopub.status.idle": "2023-03-04T11:05:25.278373Z",
     "shell.execute_reply": "2023-03-04T11:05:25.277131Z"
    },
    "papermill": {
     "duration": 0.024519,
     "end_time": "2023-03-04T11:05:25.281485",
     "exception": false,
     "start_time": "2023-03-04T11:05:25.256966",
     "status": "completed"
    },
    "tags": []
   },
   "outputs": [
    {
     "name": "stdout",
     "output_type": "stream",
     "text": [
      "PassengerId    0\n",
      "Pclass         0\n",
      "Sex            0\n",
      "Age            0\n",
      "SibSp          0\n",
      "Parch          0\n",
      "Fare           0\n",
      "Embarked       0\n",
      "dtype: int64\n"
     ]
    }
   ],
   "source": [
    "print(test.isnull().sum())"
   ]
  },
  {
   "cell_type": "code",
   "execution_count": 25,
   "id": "8bff31aa",
   "metadata": {
    "execution": {
     "iopub.execute_input": "2023-03-04T11:05:25.309764Z",
     "iopub.status.busy": "2023-03-04T11:05:25.309380Z",
     "iopub.status.idle": "2023-03-04T11:05:25.321497Z",
     "shell.execute_reply": "2023-03-04T11:05:25.319600Z"
    },
    "papermill": {
     "duration": 0.029291,
     "end_time": "2023-03-04T11:05:25.324450",
     "exception": false,
     "start_time": "2023-03-04T11:05:25.295159",
     "status": "completed"
    },
    "tags": []
   },
   "outputs": [
    {
     "name": "stdout",
     "output_type": "stream",
     "text": [
      "<class 'pandas.core.frame.DataFrame'>\n",
      "RangeIndex: 418 entries, 0 to 417\n",
      "Data columns (total 8 columns):\n",
      " #   Column       Non-Null Count  Dtype  \n",
      "---  ------       --------------  -----  \n",
      " 0   PassengerId  418 non-null    int64  \n",
      " 1   Pclass       418 non-null    int64  \n",
      " 2   Sex          418 non-null    object \n",
      " 3   Age          418 non-null    float64\n",
      " 4   SibSp        418 non-null    int64  \n",
      " 5   Parch        418 non-null    int64  \n",
      " 6   Fare         418 non-null    float64\n",
      " 7   Embarked     418 non-null    object \n",
      "dtypes: float64(2), int64(4), object(2)\n",
      "memory usage: 26.2+ KB\n"
     ]
    }
   ],
   "source": [
    "test.info()"
   ]
  },
  {
   "cell_type": "markdown",
   "id": "a48d749b",
   "metadata": {
    "papermill": {
     "duration": 0.01314,
     "end_time": "2023-03-04T11:05:25.351300",
     "exception": false,
     "start_time": "2023-03-04T11:05:25.338160",
     "status": "completed"
    },
    "tags": []
   },
   "source": [
    "Turning string in Integer"
   ]
  },
  {
   "cell_type": "code",
   "execution_count": 26,
   "id": "c72d9356",
   "metadata": {
    "execution": {
     "iopub.execute_input": "2023-03-04T11:05:25.378992Z",
     "iopub.status.busy": "2023-03-04T11:05:25.378634Z",
     "iopub.status.idle": "2023-03-04T11:05:25.535871Z",
     "shell.execute_reply": "2023-03-04T11:05:25.534935Z"
    },
    "papermill": {
     "duration": 0.173149,
     "end_time": "2023-03-04T11:05:25.537741",
     "exception": false,
     "start_time": "2023-03-04T11:05:25.364592",
     "status": "completed"
    },
    "tags": []
   },
   "outputs": [
    {
     "name": "stdout",
     "output_type": "stream",
     "text": [
      "['female' 'male']\n",
      "['C' 'Q' 'S']\n"
     ]
    },
    {
     "data": {
      "text/html": [
       "<div>\n",
       "<style scoped>\n",
       "    .dataframe tbody tr th:only-of-type {\n",
       "        vertical-align: middle;\n",
       "    }\n",
       "\n",
       "    .dataframe tbody tr th {\n",
       "        vertical-align: top;\n",
       "    }\n",
       "\n",
       "    .dataframe thead th {\n",
       "        text-align: right;\n",
       "    }\n",
       "</style>\n",
       "<table border=\"1\" class=\"dataframe\">\n",
       "  <thead>\n",
       "    <tr style=\"text-align: right;\">\n",
       "      <th></th>\n",
       "      <th>PassengerId</th>\n",
       "      <th>Survived</th>\n",
       "      <th>Pclass</th>\n",
       "      <th>Sex</th>\n",
       "      <th>Age</th>\n",
       "      <th>SibSp</th>\n",
       "      <th>Parch</th>\n",
       "      <th>Fare</th>\n",
       "      <th>Embarked</th>\n",
       "      <th>cabin_multiple</th>\n",
       "      <th>cabin_adv</th>\n",
       "    </tr>\n",
       "  </thead>\n",
       "  <tbody>\n",
       "    <tr>\n",
       "      <th>0</th>\n",
       "      <td>1</td>\n",
       "      <td>0</td>\n",
       "      <td>3</td>\n",
       "      <td>1</td>\n",
       "      <td>22.0</td>\n",
       "      <td>1</td>\n",
       "      <td>0</td>\n",
       "      <td>7.2500</td>\n",
       "      <td>2</td>\n",
       "      <td>0</td>\n",
       "      <td>n</td>\n",
       "    </tr>\n",
       "    <tr>\n",
       "      <th>1</th>\n",
       "      <td>2</td>\n",
       "      <td>1</td>\n",
       "      <td>1</td>\n",
       "      <td>0</td>\n",
       "      <td>38.0</td>\n",
       "      <td>1</td>\n",
       "      <td>0</td>\n",
       "      <td>71.2833</td>\n",
       "      <td>0</td>\n",
       "      <td>1</td>\n",
       "      <td>C</td>\n",
       "    </tr>\n",
       "    <tr>\n",
       "      <th>2</th>\n",
       "      <td>3</td>\n",
       "      <td>1</td>\n",
       "      <td>3</td>\n",
       "      <td>0</td>\n",
       "      <td>26.0</td>\n",
       "      <td>0</td>\n",
       "      <td>0</td>\n",
       "      <td>7.9250</td>\n",
       "      <td>2</td>\n",
       "      <td>0</td>\n",
       "      <td>n</td>\n",
       "    </tr>\n",
       "    <tr>\n",
       "      <th>3</th>\n",
       "      <td>4</td>\n",
       "      <td>1</td>\n",
       "      <td>1</td>\n",
       "      <td>0</td>\n",
       "      <td>35.0</td>\n",
       "      <td>1</td>\n",
       "      <td>0</td>\n",
       "      <td>53.1000</td>\n",
       "      <td>2</td>\n",
       "      <td>1</td>\n",
       "      <td>C</td>\n",
       "    </tr>\n",
       "    <tr>\n",
       "      <th>4</th>\n",
       "      <td>5</td>\n",
       "      <td>0</td>\n",
       "      <td>3</td>\n",
       "      <td>1</td>\n",
       "      <td>35.0</td>\n",
       "      <td>0</td>\n",
       "      <td>0</td>\n",
       "      <td>8.0500</td>\n",
       "      <td>2</td>\n",
       "      <td>0</td>\n",
       "      <td>n</td>\n",
       "    </tr>\n",
       "  </tbody>\n",
       "</table>\n",
       "</div>"
      ],
      "text/plain": [
       "   PassengerId  Survived  Pclass  Sex   Age  SibSp  Parch     Fare  Embarked  \\\n",
       "0            1         0       3    1  22.0      1      0   7.2500         2   \n",
       "1            2         1       1    0  38.0      1      0  71.2833         0   \n",
       "2            3         1       3    0  26.0      0      0   7.9250         2   \n",
       "3            4         1       1    0  35.0      1      0  53.1000         2   \n",
       "4            5         0       3    1  35.0      0      0   8.0500         2   \n",
       "\n",
       "   cabin_multiple cabin_adv  \n",
       "0               0         n  \n",
       "1               1         C  \n",
       "2               0         n  \n",
       "3               1         C  \n",
       "4               0         n  "
      ]
     },
     "execution_count": 26,
     "metadata": {},
     "output_type": "execute_result"
    }
   ],
   "source": [
    "from sklearn import preprocessing \n",
    "le = preprocessing.LabelEncoder()\n",
    "cols = [\"Sex\",\"Embarked\"]\n",
    "\n",
    "for col in cols: \n",
    "    train[col] = le.fit_transform(train[col])\n",
    "    test[col] = le.transform(test[col])\n",
    "    print(le.classes_)\n",
    "train.head()"
   ]
  },
  {
   "cell_type": "code",
   "execution_count": 27,
   "id": "5fe7ff2e",
   "metadata": {
    "execution": {
     "iopub.execute_input": "2023-03-04T11:05:25.565462Z",
     "iopub.status.busy": "2023-03-04T11:05:25.565086Z",
     "iopub.status.idle": "2023-03-04T11:05:25.576790Z",
     "shell.execute_reply": "2023-03-04T11:05:25.575271Z"
    },
    "papermill": {
     "duration": 0.027995,
     "end_time": "2023-03-04T11:05:25.578805",
     "exception": false,
     "start_time": "2023-03-04T11:05:25.550810",
     "status": "completed"
    },
    "tags": []
   },
   "outputs": [
    {
     "name": "stdout",
     "output_type": "stream",
     "text": [
      "     PassengerId  Survived  Pclass  Sex   Age  SibSp  Parch     Fare  \\\n",
      "0              1         0       3    1  22.0      1      0   7.2500   \n",
      "1              2         1       1    0  38.0      1      0  71.2833   \n",
      "2              3         1       3    0  26.0      0      0   7.9250   \n",
      "3              4         1       1    0  35.0      1      0  53.1000   \n",
      "4              5         0       3    1  35.0      0      0   8.0500   \n",
      "..           ...       ...     ...  ...   ...    ...    ...      ...   \n",
      "886          887         0       2    1  27.0      0      0  13.0000   \n",
      "887          888         1       1    0  19.0      0      0  30.0000   \n",
      "888          889         0       3    0  28.0      1      2  23.4500   \n",
      "889          890         1       1    1  26.0      0      0  30.0000   \n",
      "890          891         0       3    1  32.0      0      0   7.7500   \n",
      "\n",
      "     Embarked  cabin_multiple cabin_adv  \n",
      "0           2               0         n  \n",
      "1           0               1         C  \n",
      "2           2               0         n  \n",
      "3           2               1         C  \n",
      "4           2               0         n  \n",
      "..        ...             ...       ...  \n",
      "886         2               0         n  \n",
      "887         2               1         B  \n",
      "888         2               0         n  \n",
      "889         0               1         C  \n",
      "890         1               0         n  \n",
      "\n",
      "[891 rows x 11 columns] cabin_adv\n"
     ]
    }
   ],
   "source": [
    "print(train, \"cabin_adv\")"
   ]
  },
  {
   "cell_type": "markdown",
   "id": "85e5f282",
   "metadata": {
    "papermill": {
     "duration": 0.013424,
     "end_time": "2023-03-04T11:05:25.605521",
     "exception": false,
     "start_time": "2023-03-04T11:05:25.592097",
     "status": "completed"
    },
    "tags": []
   },
   "source": [
    "Train data and Test"
   ]
  },
  {
   "cell_type": "code",
   "execution_count": 28,
   "id": "44985ff5",
   "metadata": {
    "execution": {
     "iopub.execute_input": "2023-03-04T11:05:25.634447Z",
     "iopub.status.busy": "2023-03-04T11:05:25.634085Z",
     "iopub.status.idle": "2023-03-04T11:05:25.786261Z",
     "shell.execute_reply": "2023-03-04T11:05:25.784833Z"
    },
    "papermill": {
     "duration": 0.169573,
     "end_time": "2023-03-04T11:05:25.788574",
     "exception": false,
     "start_time": "2023-03-04T11:05:25.619001",
     "status": "completed"
    },
    "tags": []
   },
   "outputs": [
    {
     "name": "stdout",
     "output_type": "stream",
     "text": [
      "Coefficients:  [[ 2.91085558e-05 -5.50234572e-01 -1.75293324e-03 -4.42505189e-02\n",
      "  -6.35661505e-02]]\n",
      "Intercept:  [0.89946083]\n"
     ]
    }
   ],
   "source": [
    "from sklearn import linear_model\n",
    "regr = linear_model.LinearRegression()\n",
    "x = np.asanyarray(train[['PassengerId','Sex','Age','SibSp','Embarked']])\n",
    "y = np.asanyarray(train[['Survived']])\n",
    "y_ = np.asanyarray(train[['Survived']])\n",
    "regr.fit (x, y)\n",
    "# The coefficients\n",
    "print ('Coefficients: ', regr.coef_)\n",
    "print ('Intercept: ' , regr.intercept_)"
   ]
  },
  {
   "cell_type": "code",
   "execution_count": 29,
   "id": "9316ae27",
   "metadata": {
    "execution": {
     "iopub.execute_input": "2023-03-04T11:05:25.817498Z",
     "iopub.status.busy": "2023-03-04T11:05:25.817133Z",
     "iopub.status.idle": "2023-03-04T11:05:25.825049Z",
     "shell.execute_reply": "2023-03-04T11:05:25.824309Z"
    },
    "papermill": {
     "duration": 0.024752,
     "end_time": "2023-03-04T11:05:25.826783",
     "exception": false,
     "start_time": "2023-03-04T11:05:25.802031",
     "status": "completed"
    },
    "tags": []
   },
   "outputs": [],
   "source": [
    "from sklearn.linear_model import LogisticRegression\n",
    "from sklearn.model_selection import train_test_split\n",
    "\n",
    "y = train[\"Survived\"]\n",
    "x = train.drop([\"Survived\",\"cabin_adv\"], axis=1)\n",
    "x_train, x_val, y_train, y_val = train_test_split(x,y, test_size = 0.15, random_state= 4)"
   ]
  },
  {
   "cell_type": "code",
   "execution_count": 30,
   "id": "15f924f6",
   "metadata": {
    "execution": {
     "iopub.execute_input": "2023-03-04T11:05:25.854584Z",
     "iopub.status.busy": "2023-03-04T11:05:25.854256Z",
     "iopub.status.idle": "2023-03-04T11:05:25.934412Z",
     "shell.execute_reply": "2023-03-04T11:05:25.933176Z"
    },
    "papermill": {
     "duration": 0.096992,
     "end_time": "2023-03-04T11:05:25.936971",
     "exception": false,
     "start_time": "2023-03-04T11:05:25.839979",
     "status": "completed"
    },
    "tags": []
   },
   "outputs": [],
   "source": [
    "clf = LogisticRegression(random_state= 4, max_iter = 10000).fit(x_train, y_train)"
   ]
  },
  {
   "cell_type": "code",
   "execution_count": 31,
   "id": "abc36174",
   "metadata": {
    "execution": {
     "iopub.execute_input": "2023-03-04T11:05:25.964484Z",
     "iopub.status.busy": "2023-03-04T11:05:25.964137Z",
     "iopub.status.idle": "2023-03-04T11:05:25.974204Z",
     "shell.execute_reply": "2023-03-04T11:05:25.973421Z"
    },
    "papermill": {
     "duration": 0.025905,
     "end_time": "2023-03-04T11:05:25.976018",
     "exception": false,
     "start_time": "2023-03-04T11:05:25.950113",
     "status": "completed"
    },
    "tags": []
   },
   "outputs": [
    {
     "data": {
      "text/plain": [
       "0.8283582089552238"
      ]
     },
     "execution_count": 31,
     "metadata": {},
     "output_type": "execute_result"
    }
   ],
   "source": [
    "prediction = clf.predict(x_val)\n",
    "from sklearn.metrics import accuracy_score\n",
    "accuracy_score(y_val, prediction)"
   ]
  },
  {
   "cell_type": "code",
   "execution_count": 32,
   "id": "70d6617d",
   "metadata": {
    "execution": {
     "iopub.execute_input": "2023-03-04T11:05:26.004882Z",
     "iopub.status.busy": "2023-03-04T11:05:26.004288Z",
     "iopub.status.idle": "2023-03-04T11:05:26.291729Z",
     "shell.execute_reply": "2023-03-04T11:05:26.290400Z"
    },
    "papermill": {
     "duration": 0.30417,
     "end_time": "2023-03-04T11:05:26.293782",
     "exception": false,
     "start_time": "2023-03-04T11:05:25.989612",
     "status": "completed"
    },
    "tags": []
   },
   "outputs": [
    {
     "name": "stdout",
     "output_type": "stream",
     "text": [
      "Your submission was successfully saved!\n"
     ]
    }
   ],
   "source": [
    "from sklearn.ensemble import RandomForestClassifier\n",
    "\n",
    "y = train[\"Survived\"]\n",
    "\n",
    "features = [\"Pclass\", \"Sex\", \"SibSp\", \"Parch\"]\n",
    "X = pd.get_dummies(train[features])\n",
    "X_test = pd.get_dummies(test[features])\n",
    "model = RandomForestClassifier(n_estimators=100, max_depth=5, random_state=1)\n",
    "model.fit(X, y)\n",
    "predictions = model.predict(X_test)\n",
    "\n",
    "output = pd.DataFrame({'PassengerId': test.PassengerId, 'Survived': predictions})\n",
    "output.to_csv('submission.csv', index=False)\n",
    "print(\"Your submission was successfully saved!\")"
   ]
  },
  {
   "cell_type": "code",
   "execution_count": null,
   "id": "07465ae9",
   "metadata": {
    "papermill": {
     "duration": 0.012947,
     "end_time": "2023-03-04T11:05:26.319991",
     "exception": false,
     "start_time": "2023-03-04T11:05:26.307044",
     "status": "completed"
    },
    "tags": []
   },
   "outputs": [],
   "source": []
  },
  {
   "cell_type": "code",
   "execution_count": null,
   "id": "bf9c0e5a",
   "metadata": {
    "papermill": {
     "duration": 0.012522,
     "end_time": "2023-03-04T11:05:26.345418",
     "exception": false,
     "start_time": "2023-03-04T11:05:26.332896",
     "status": "completed"
    },
    "tags": []
   },
   "outputs": [],
   "source": []
  },
  {
   "cell_type": "code",
   "execution_count": null,
   "id": "de5b4dd0",
   "metadata": {
    "papermill": {
     "duration": 0.012623,
     "end_time": "2023-03-04T11:05:26.370880",
     "exception": false,
     "start_time": "2023-03-04T11:05:26.358257",
     "status": "completed"
    },
    "tags": []
   },
   "outputs": [],
   "source": []
  }
 ],
 "metadata": {
  "kernelspec": {
   "display_name": "Python 3",
   "language": "python",
   "name": "python3"
  },
  "language_info": {
   "codemirror_mode": {
    "name": "ipython",
    "version": 3
   },
   "file_extension": ".py",
   "mimetype": "text/x-python",
   "name": "python",
   "nbconvert_exporter": "python",
   "pygments_lexer": "ipython3",
   "version": "3.7.12"
  },
  "papermill": {
   "default_parameters": {},
   "duration": 22.176826,
   "end_time": "2023-03-04T11:05:27.205583",
   "environment_variables": {},
   "exception": null,
   "input_path": "__notebook__.ipynb",
   "output_path": "__notebook__.ipynb",
   "parameters": {},
   "start_time": "2023-03-04T11:05:05.028757",
   "version": "2.3.4"
  }
 },
 "nbformat": 4,
 "nbformat_minor": 5
}
